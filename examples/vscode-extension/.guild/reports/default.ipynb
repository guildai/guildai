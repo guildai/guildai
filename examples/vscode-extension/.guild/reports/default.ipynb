{
 "cells": [
  {
   "cell_type": "markdown",
   "metadata": {},
   "source": [
    "``` yaml guild:compare-runs\n",
    "runs-sync: yes\n",
    "columns:\n",
    "  - $core\n",
    "  - name: x\n",
    "    format: %0.5f\n",
    "```\n",
    "\n",
    "<!--------------------->\n",
    "\n",
    "![](table.png)\n",
    "\n",
    "<style>\n",
    "  pre {\n",
    "    font-size: 0.7em;\n",
    "    opacity: 0.7;\n",
    "  }\n",
    "</style>"
   ]
  }
 ],
 "metadata": {
  "kernelspec": {
   "display_name": "Python 3.8.10 ('.venv': venv)",
   "language": "python",
   "name": "python3"
  },
  "language_info": {
   "codemirror_mode": {
    "name": "ipython",
    "version": 3
   },
   "file_extension": ".py",
   "mimetype": "text/x-python",
   "name": "python",
   "nbconvert_exporter": "python",
   "pygments_lexer": "ipython3",
   "version": "3.8.10"
  },
  "orig_nbformat": 4,
  "vscode": {
   "interpreter": {
    "hash": "ae5396aa4761808715a2a591fc25d2a577f2fc7dcecd557ff33d0270a25025dd"
   }
  }
 },
 "nbformat": 4,
 "nbformat_minor": 2
}
